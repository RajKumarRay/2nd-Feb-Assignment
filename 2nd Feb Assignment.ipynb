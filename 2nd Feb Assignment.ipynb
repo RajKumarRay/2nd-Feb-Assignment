{
 "cells": [
  {
   "cell_type": "markdown",
   "id": "e308fdf4-cfa1-4931-a8e5-7b8cb00928af",
   "metadata": {},
   "source": [
    "Question 1:\n",
    "\n",
    "Explain with an example each when to use a for loop and a while loop.\n",
    "\n",
    "Answer:\n",
    "\n",
    "The for loop is used when we already know the number of iterations, which means when we know how many times a statement has to be executed. That is why we have to specify the ending point in the for loop initialization. When we need to end the loop on a condition other than the number of times, we use a while loop."
   ]
  },
  {
   "cell_type": "code",
   "execution_count": 1,
   "id": "300ca4ff-f7df-49ec-a448-61d6044f4f93",
   "metadata": {},
   "outputs": [
    {
     "name": "stdout",
     "output_type": "stream",
     "text": [
      "0\n",
      "1\n",
      "2\n",
      "3\n",
      "4\n",
      "5\n",
      "6\n",
      "7\n",
      "8\n",
      "9\n"
     ]
    }
   ],
   "source": [
    "for i in range(0,10):\n",
    "    print(i)"
   ]
  },
  {
   "cell_type": "code",
   "execution_count": 2,
   "id": "ecd5e1a9-d829-41f1-b49b-621ce53f4071",
   "metadata": {},
   "outputs": [
    {
     "name": "stdout",
     "output_type": "stream",
     "text": [
      "1\n"
     ]
    }
   ],
   "source": [
    "count=0\n",
    "n=10\n",
    "while(n%2==0):\n",
    "    n=n/2\n",
    "    count+=1\n",
    "print(count)"
   ]
  },
  {
   "cell_type": "markdown",
   "id": "59329e5a-43c3-4676-985e-b4f9cfc7c23a",
   "metadata": {},
   "source": [
    "Question 2:\n",
    "Write a python program to print the sum and product of first 10 natural number using for and while loop.\n"
   ]
  },
  {
   "cell_type": "code",
   "execution_count": 4,
   "id": "f26160c8-0b27-420f-8bb2-543399a5dbef",
   "metadata": {},
   "outputs": [
    {
     "name": "stdout",
     "output_type": "stream",
     "text": [
      "55      3628800\n"
     ]
    }
   ],
   "source": [
    "s,prod=0,1\n",
    "for i in range(1,11):\n",
    "    s+=i\n",
    "    prod*=i\n",
    "print(s,\"    \",prod)"
   ]
  },
  {
   "cell_type": "code",
   "execution_count": 6,
   "id": "c50bc7cb-7fd9-44e6-9b0b-7221cb088e1c",
   "metadata": {},
   "outputs": [
    {
     "name": "stdout",
     "output_type": "stream",
     "text": [
      "55      3628800\n"
     ]
    }
   ],
   "source": [
    "s,prod,i=0,1,1\n",
    "while(i<11):\n",
    "    s+=i\n",
    "    prod*=i\n",
    "    i+=1\n",
    "print(s,\"    \",prod)"
   ]
  },
  {
   "cell_type": "markdown",
   "id": "b4e190ea-6760-46d3-98db-c95b6e46f022",
   "metadata": {},
   "source": [
    "Question 3:\n",
    "    "
   ]
  },
  {
   "cell_type": "code",
   "execution_count": 9,
   "id": "1f7c8e45-c1c5-4688-ab9f-072b16875b29",
   "metadata": {},
   "outputs": [
    {
     "name": "stdin",
     "output_type": "stream",
     "text": [
      "enter the unit of electricity consumed 310\n"
     ]
    },
    {
     "name": "stdout",
     "output_type": "stream",
     "text": [
      "2250.0\n"
     ]
    }
   ],
   "source": [
    "#answer:\n",
    "\n",
    "eleconsum=int(input(\"enter the unit of electricity consumed\"))\n",
    "amount,c=0,1\n",
    "while(eleconsum>0):\n",
    "    if(c==1):\n",
    "        k=min(100,eleconsum)\n",
    "        eleconsum-=100\n",
    "        amount+=(k*4.5)\n",
    "    elif(c==2):\n",
    "        k=min(100,eleconsum)\n",
    "        eleconsum-=100\n",
    "        amount+=(k*6)\n",
    "    elif(c==3):\n",
    "        k=min(100,eleconsum)\n",
    "        eleconsum-=100\n",
    "        amount+=(k*10)\n",
    "    else:\n",
    "        k=min(100,eleconsum)\n",
    "        eleconsum-=100\n",
    "        amount+=(k*20)\n",
    "    c+=1\n",
    "print(amount)"
   ]
  },
  {
   "cell_type": "markdown",
   "id": "6f3f3fc4-4c8f-40e5-8529-725ac240434a",
   "metadata": {},
   "source": [
    "Question 4:"
   ]
  },
  {
   "cell_type": "code",
   "execution_count": 10,
   "id": "ccfa4884-a000-402e-8f2d-79ec92752338",
   "metadata": {},
   "outputs": [
    {
     "name": "stdout",
     "output_type": "stream",
     "text": [
      "[2, 4, 5, 6, 8, 10, 12, 14, 15, 16, 18, 20, 22, 24, 25, 26, 28, 30, 32, 34, 35, 36, 38, 40, 42, 44, 45, 46, 48, 50, 52, 54, 55, 56, 58, 60, 62, 64, 65, 66, 68, 70, 72, 74, 75, 76, 78, 80, 82, 84, 85, 86, 88, 90, 92, 94, 95, 96, 98, 100]\n"
     ]
    }
   ],
   "source": [
    "l1=[]\n",
    "for i in range(1,101):\n",
    "    k=(i*i*i)\n",
    "    if(k%4==0 or k%5==0):\n",
    "        l1.append(i)\n",
    "print(l1)"
   ]
  },
  {
   "cell_type": "code",
   "execution_count": 12,
   "id": "3451af7d-25a3-4c54-9047-8f45454df61b",
   "metadata": {},
   "outputs": [
    {
     "name": "stdout",
     "output_type": "stream",
     "text": [
      "[2, 4, 5, 6, 8, 10, 12, 14, 15, 16, 18, 20, 22, 24, 25, 26, 28, 30, 32, 34, 35, 36, 38, 40, 42, 44, 45, 46, 48, 50, 52, 54, 55, 56, 58, 60, 62, 64, 65, 66, 68, 70, 72, 74, 75, 76, 78, 80, 82, 84, 85, 86, 88, 90, 92, 94, 95, 96, 98, 100]\n"
     ]
    }
   ],
   "source": [
    "l1=[]\n",
    "i=1\n",
    "while(i<101):\n",
    "    k=(i*i*i)\n",
    "    if(k%4==0 or k%5==0):\n",
    "        l1.append(i)\n",
    "    i+=1\n",
    "print(l1)"
   ]
  },
  {
   "cell_type": "markdown",
   "id": "e9ac0219-0b7b-411f-b199-d7fe9b162630",
   "metadata": {},
   "source": [
    "Question 5:\n",
    "    \n"
   ]
  },
  {
   "cell_type": "code",
   "execution_count": 16,
   "id": "84b92b58-bfb8-4e16-91f8-0da6fbf4c567",
   "metadata": {},
   "outputs": [],
   "source": [
    "str=\"I want to become a data scientist\"\n",
    "str=str.lower()\n",
    "for i in str:\n",
    "    if(i=='a\""
   ]
  }
 ],
 "metadata": {
  "kernelspec": {
   "display_name": "Python 3 (ipykernel)",
   "language": "python",
   "name": "python3"
  },
  "language_info": {
   "codemirror_mode": {
    "name": "ipython",
    "version": 3
   },
   "file_extension": ".py",
   "mimetype": "text/x-python",
   "name": "python",
   "nbconvert_exporter": "python",
   "pygments_lexer": "ipython3",
   "version": "3.10.8"
  }
 },
 "nbformat": 4,
 "nbformat_minor": 5
}
